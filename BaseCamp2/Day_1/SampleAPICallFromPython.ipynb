{
 "cells": [
  {
   "cell_type": "markdown",
   "id": "dd2a1fe2-8f86-4d28-9c17-5a4febd2213a",
   "metadata": {},
   "source": [
    "Simple Way to Call an API endpoint\n",
    "We assume we have an API exposed and running in a server\n",
    "Server is Uvicorn\n",
    "API is built via FastAPI\n",
    "\n",
    "API BASE URL is specified in the code:\n",
    "uvicorn.run(app, host=\"0.0.0.0\", port=9321)"
   ]
  },
  {
   "cell_type": "code",
   "execution_count": 1,
   "id": "90abc46e-2afe-4f6c-a96c-a34bede70a9d",
   "metadata": {},
   "outputs": [
    {
     "name": "stdout",
     "output_type": "stream",
     "text": [
      "{'operation': 'add', 'a': '5', 'b': '3', 'result': 8.0}\n"
     ]
    }
   ],
   "source": [
    "import requests\n",
    "response = requests.get(\"http://0.0.0.0:9321/add\", params={\"a\": 5, \"b\": 3})\n",
    "print(response.json())"
   ]
  },
  {
   "cell_type": "code",
   "execution_count": null,
   "id": "29f9382a-91a2-4ae7-a981-59c4558c200a",
   "metadata": {},
   "outputs": [],
   "source": []
  }
 ],
 "metadata": {
  "kernelspec": {
   "display_name": ".first",
   "language": "python",
   "name": ".first"
  },
  "language_info": {
   "codemirror_mode": {
    "name": "ipython",
    "version": 3
   },
   "file_extension": ".py",
   "mimetype": "text/x-python",
   "name": "python",
   "nbconvert_exporter": "python",
   "pygments_lexer": "ipython3",
   "version": "3.12.3"
  }
 },
 "nbformat": 4,
 "nbformat_minor": 5
}
